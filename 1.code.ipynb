{
 "cells": [
  {
   "cell_type": "code",
   "execution_count": null,
   "metadata": {},
   "outputs": [],
   "source": [
    "# for using the aws servcies in our pc/ or in our vscode"
   ]
  },
  {
   "cell_type": "code",
   "execution_count": null,
   "metadata": {},
   "outputs": [],
   "source": [
    "#1. first download the aws cil software in ur pc"
   ]
  },
  {
   "cell_type": "code",
   "execution_count": null,
   "metadata": {},
   "outputs": [],
   "source": [
    "#2.find ur acceskeys on \"iam/users\" or create a user in iam create aws acces keys\n",
    "\n",
    "#you have to get\n",
    "1. aws acces key = \n",
    "2. aws secrect acces key =  \n",
    "3. default location = \n",
    "4. format = json\n",
    "\n",
    "\"\"\"\n",
    "\n",
    "To find your AWS Access Key ID and Secret Access Key in your AWS account, follow these steps:\n",
    "1. Log In to the AWS Management Console\n",
    "\n",
    "    Open the AWS Management Console:\n",
    "        Go to AWS Management Console.\n",
    "        Log in with your AWS account credentials.\n",
    "\n",
    "2. Access the IAM Service\n",
    "\n",
    "    Navigate to the IAM Dashboard:\n",
    "        In the AWS Management Console, type \"IAM\" in the search bar or navigate to Services > Security, Identity, & Compliance > IAM.\n",
    "\n",
    "3. Locate or Create an IAM User\n",
    "\n",
    "    Select Users:\n",
    "        In the IAM Dashboard, click on Users in the left-hand navigation pane.\n",
    "\n",
    "    Select User:\n",
    "        Find and click on the IAM user for whom you want to view or generate access keys. If you don’t have an IAM user or need to create a new one, click on Add user and follow the prompts to create one with appropriate permissions.\n",
    "\n",
    "4. View or Create Access Keys\n",
    "\n",
    "    Access Keys Tab:\n",
    "        In the user details page, go to the Security credentials tab.\n",
    "\n",
    "    Find Existing Access Keys:\n",
    "        In the Access keys section, you will see a list of existing access keys associated with the user.\n",
    "\n",
    "    Create New Access Key (if needed):\n",
    "\n",
    "        To create a new access key, click the Create access key button.\n",
    "\n",
    "        Follow the prompts to generate a new access key. Important: After creating the key, you'll be shown the Access Key ID and Secret Access Key. Save these credentials securely because you won’t be able to retrieve the Secret Access Key again later.\n",
    "\n",
    "5. Download or Copy Access Keys\n",
    "\n",
    "    Download Key File:\n",
    "        If you created a new access key, you can download the key file containing the Access Key ID and Secret Access Key by clicking the Download .csv file button.\n",
    "\n",
    "    Copy Keys:\n",
    "        You can also manually copy the Access Key ID and Secret Access Key from the console.\n",
    "\n",
    "6. Manage and Secure Access Keys\n",
    "\n",
    "    Secure Storage:\n",
    "        Store your keys securely and avoid hardcoding them in your applications. Use environment variables or configuration files to manage them.\n",
    "\n",
    "    Rotate Access Keys Regularly:\n",
    "        Regularly rotate your access keys and remove old or unused keys to maintain security.\n",
    "\n",
    "    Delete Unused Keys:\n",
    "        If you no longer need an access key, you can delete it from the same Security credentials tab by selecting the key and clicking Delete.\n",
    "\n",
    "Example of Access Keys Section\n",
    "\n",
    "Here’s what the access keys section might look like:\"\"\""
   ]
  },
  {
   "cell_type": "code",
   "execution_count": null,
   "metadata": {},
   "outputs": [],
   "source": [
    "# fro integrating ur aws with pc\n",
    "#now in ur pc cmd\n",
    "\n",
    "\"\"\"\n",
    "1. open cmd \n",
    "2. type aws configure\n",
    "3. you will get like this : \n",
    "\n",
    "AWS Access Key ID [None]: \n",
    "AWS Secret Access Key [None]:\n",
    "Default region name [None]: ap-south-1\n",
    "Default output format [None]: json\n",
    "\n",
    "4. give ur details and press enter \n",
    "5. now ur aws is integerated with ur pc path\n",
    "6. you can now use aws services in ur python code in ur vscode\n",
    "\"\"\""
   ]
  },
  {
   "cell_type": "code",
   "execution_count": null,
   "metadata": {},
   "outputs": [],
   "source": [
    "#install in ur terminal \n",
    "\n",
    "!pip install boto3"
   ]
  },
  {
   "cell_type": "code",
   "execution_count": null,
   "metadata": {},
   "outputs": [],
   "source": [
    "# for checking create any s3 bucket name :\n",
    "\n",
    "\"\"\"\n",
    "1. create any s3 bucket name in ur aws\n",
    "2. run this code below , it will buckets u created in aws\n",
    "\n",
    "import boto3\n",
    "# Example: List S3 buckets\n",
    "def list_s3_buckets():\n",
    "    s3 = boto3.client('s3')\n",
    "    response = s3.list_buckets()\n",
    "    for bucket in response['Buckets']:\n",
    "        print(f'Bucket Name: {bucket[\"Name\"]}')\n",
    "\n",
    "if __name__ == '__main__':\n",
    "    list_s3_buckets()\n",
    "\n",
    "\"\"\""
   ]
  },
  {
   "cell_type": "markdown",
   "metadata": {},
   "source": [
    "# for checking ur account in ur pc:\n",
    "\n",
    "•\taws sts get-caller-identity\n",
    "\n",
    "* it will display account id"
   ]
  },
  {
   "cell_type": "markdown",
   "metadata": {},
   "source": [
    "# for removing ur account :\n",
    "\n",
    "cd %USERPROFILE%\n",
    "\n",
    "rmdir /s /q .aws\n",
    "\n"
   ]
  },
  {
   "cell_type": "code",
   "execution_count": null,
   "metadata": {},
   "outputs": [],
   "source": [
    "# for checking user :\n",
    "\n",
    "•\taws configure list"
   ]
  },
  {
   "cell_type": "code",
   "execution_count": null,
   "metadata": {},
   "outputs": [],
   "source": []
  },
  {
   "cell_type": "code",
   "execution_count": null,
   "metadata": {},
   "outputs": [],
   "source": []
  }
 ],
 "metadata": {
  "language_info": {
   "name": "python"
  }
 },
 "nbformat": 4,
 "nbformat_minor": 2
}
